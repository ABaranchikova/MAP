{
 "cells": [
  {
   "cell_type": "markdown",
   "metadata": {},
   "source": [
    "Целью этой работы было решение задачи, которая может быть поставлена перед компьютерным лингвистом: задачи кластеризации новостей. В результате мы получили опыт предобработки текста и работы с разными алгоритмами кластеризации текстов, получили возможность сравнить их и посмотреть, какой алгоритм наиболее эффективен."
   ]
  },
  {
   "cell_type": "markdown",
   "metadata": {},
   "source": [
    "В нашей работе мы опирались в основном на лабораторную работу, разобранную на первом занятии. Кроме того, для получения иерархической и спектральной классификаций была использована документация sklearn:\n",
    "http://scikit-learn.org/stable/modules/generated/sklearn.cluster.SpectralClustering.html#sklearn.cluster.SpectralClustering  \n",
    "http://scikit-learn.org/stable/auto_examples/cluster/plot_cluster_comparison.html#sphx-glr-auto-examples-cluster-plot-cluster-comparison-py  \n",
    "http://scikit-learn.org/stable/modules/generated/sklearn.cluster.AgglomerativeClustering.html#sklearn.cluster.AgglomerativeClustering\n",
    "http://scikit-learn.org/stable/modules/clustering.html#hierarchical-clustering  \n",
    "\n",
    "Для нашей работы в основном нам понадобилась библиотека sklearn, однако для лемматизации текстов использовался pymystem3:  \n",
    "http://pypi.python.org/pypi/pymystem3/0.1.1  \n",
    "\n",
    "Кроме того, были использованы:  \n",
    "http://matplotlib.org/api/figure_api.html#matplotlib.figure.Figure для построения матриц ошибок;  \n",
    "https://pandas.pydata.org/pandas-docs/stable/generated/pandas.DataFrame.replace.html  \n",
    "https://pandas.pydata.org/pandas-docs/stable/generated/pandas.DataFrame.drop_duplicates.html для удаления дубликатов.  \n",
    "и  \n",
    "http://scikit-learn.org/stable/modules/generated/sklearn.metrics.explained_variance_score.html для объяснения сингулярного разложения ниже."
   ]
  },
  {
   "cell_type": "code",
   "execution_count": 1,
   "metadata": {
    "collapsed": true
   },
   "outputs": [],
   "source": [
    "import pandas as pd\n",
    "from __future__ import print_function\n",
    "from sklearn.decomposition import TruncatedSVD\n",
    "from sklearn.feature_extraction.text import *\n",
    "from sklearn.pipeline import *\n",
    "from sklearn.preprocessing import Normalizer\n",
    "from sklearn.metrics import *\n",
    "from sklearn.cluster import *\n",
    "import numpy as np\n",
    "from sklearn.pipeline import Pipeline\n",
    "from sklearn.feature_extraction.text import *\n",
    "from sklearn.utils import shuffle\n",
    "import seaborn as sns\n",
    "import matplotlib.pyplot as plt"
   ]
  },
  {
   "cell_type": "markdown",
   "metadata": {},
   "source": [
    "Для начала нам необходимо прочитать файл и избавиться от новостей-дубликатов. Для этого мы использовали метод .drop_duplicates() библиотеки pandas."
   ]
  },
  {
   "cell_type": "code",
   "execution_count": 15,
   "metadata": {
    "collapsed": true
   },
   "outputs": [],
   "source": [
    "df1 = pd.read_csv('clear1.csv')\n",
    "texts = df1[['in_out','text']].copy()    "
   ]
  },
  {
   "cell_type": "markdown",
   "metadata": {},
   "source": [
    "Для нормализации текста нам необходима библиотека Mystem."
   ]
  },
  {
   "cell_type": "code",
   "execution_count": 17,
   "metadata": {
    "collapsed": true
   },
   "outputs": [],
   "source": [
    "from pymystem3 import Mystem\n",
    "m = Mystem()"
   ]
  },
  {
   "cell_type": "markdown",
   "metadata": {},
   "source": [
    "Здесь мы нормализуем тексты: приводим к нижнему регистру, находим только символьные токены и лемматизируем с помощью метода .lemmatize() библиотеки Mystem."
   ]
  },
  {
   "cell_type": "code",
   "execution_count": 18,
   "metadata": {
    "collapsed": true
   },
   "outputs": [],
   "source": [
    "import re\n",
    "def normalize(i):\n",
    "    i = i.lower()\n",
    "    string1 = re.findall('\\w+', i)\n",
    "    lemmas = m.lemmatize(' '.join(string1))\n",
    "    return ''.join(lemmas)"
   ]
  },
  {
   "cell_type": "markdown",
   "metadata": {},
   "source": [
    "На этом этапе мы записали очищенные тексты в новый файл и затем снова пропустили их через удаление дубликатов, чтобы они пропали наверняка."
   ]
  },
  {
   "cell_type": "code",
   "execution_count": 21,
   "metadata": {
    "collapsed": true
   },
   "outputs": [],
   "source": [
    "for i in texts.text:\n",
    "    try:\n",
    "        texts.text = texts.text.replace(i, normalize(i))\n",
    "    except AttributeError:\n",
    "        texts.text = texts.text.replace(i, 'n')\n",
    "        \n",
    "#Ещё разок избавляемся от дубликатов для верности\n",
    "#texts = texts.drop_duplicates('text') \n",
    "texts.to_csv('norm_raw_texts.csv', encoding='utf-8')"
   ]
  },
  {
   "cell_type": "markdown",
   "metadata": {},
   "source": [
    "Начинаем работу с алгоритмами и сначала мы работаем с алгоритмом k-средних. Обучаем на всех текстах, кроме первых ста, чтобы у нас оставались тексты для тестирования. Кроме того, для чистоты перемешиваем данные."
   ]
  },
  {
   "cell_type": "code",
   "execution_count": 24,
   "metadata": {
    "collapsed": true
   },
   "outputs": [],
   "source": [
    "dataset = pd.read_csv('norm_raw_texts.csv')\n",
    "dataset['in_out'] = dataset['in_out'].factorize()[0]\n",
    "dataset = shuffle(dataset)\n",
    "labels = dataset.in_out[100:].as_matrix()\n",
    "true_k = np.unique(labels).shape[0]"
   ]
  },
  {
   "cell_type": "markdown",
   "metadata": {},
   "source": [
    "SVD: У нас есть большая разреженная матрица, для дальнейшей её обработки мы при помощи svd просто понижаем размерность данных и смотрим на процент приближения. Процент — это сумма дисперсий (коэффициентов на диагонали матрицы в разложении) после того как мы оставили только первые n_components относительно суммы дисперсий в правильном разложении (относительно идеального варианта). Чем больше процент — тем точнее первая матрица приближает вторую."
   ]
  },
  {
   "cell_type": "code",
   "execution_count": 49,
   "metadata": {},
   "outputs": [
    {
     "name": "stderr",
     "output_type": "stream",
     "text": [
      "C:\\Users\\Asus\\Anaconda3\\envs\\mllecture\\lib\\site-packages\\sklearn\\feature_extraction\\text.py:1089: FutureWarning: Conversion of the second argument of issubdtype from `float` to `np.floating` is deprecated. In future, it will be treated as `np.float64 == np.dtype(float).type`.\n",
      "  if hasattr(X, 'dtype') and np.issubdtype(X.dtype, np.float):\n"
     ]
    },
    {
     "name": "stdout",
     "output_type": "stream",
     "text": [
      "Explained variance of the SVD step: 89%\n"
     ]
    }
   ],
   "source": [
    "pipeline = Pipeline([\n",
    "    ('vect', CountVectorizer(max_df=0.7, min_df=0.3, ngram_range=(1,3), analyzer='char')),\n",
    "    ('tfidf', TfidfTransformer()),\n",
    "    ('svd', TruncatedSVD(n_components=200)),\n",
    "    ('norm', Normalizer() ),\n",
    "    ('clust', KMeans(n_clusters=2))\n",
    "])\n",
    "#x = v.fit_transform(df['Review'].values.astype('U'))  ## Even astype(str) would work\n",
    "#добавлено чтобы избежать ошибок с nan\n",
    "pipeline.fit_transform(dataset.text[100:].astype(str))\n",
    "dataset.text.fillna(' ')\n",
    "dataset.in_out.fillna(' ')\n",
    "#Кто-нибудь, опишите, что показывает этот параметр и почему он такой, а не другой\n",
    "#Описывать это нужно для каждого применяемого алгоритма\n",
    "explained_variance = pipeline.named_steps['svd'].explained_variance_ratio_.sum()\n",
    "print(\"Explained variance of the SVD step: {}%\".format(\n",
    "    int(explained_variance * 100)))"
   ]
  },
  {
   "cell_type": "code",
   "execution_count": 50,
   "metadata": {},
   "outputs": [
    {
     "name": "stdout",
     "output_type": "stream",
     "text": [
      "Homogeneity: 0.0801349804835322\n",
      "Completeness: 0.12709800429741175\n",
      "V-measure 0.0982951252150815\n",
      "Adjusted Rand-Index: 0.09932481949604371\n"
     ]
    }
   ],
   "source": [
    "clust_labels = pipeline.named_steps['clust'].labels_\n",
    "labels = dataset.in_out[100:].as_matrix()\n",
    "\n",
    "print(\"Homogeneity:\", homogeneity_score(labels, clust_labels))\n",
    "print(\"Completeness:\", completeness_score(labels, clust_labels))\n",
    "print(\"V-measure\",  v_measure_score(labels, clust_labels))\n",
    "print(\"Adjusted Rand-Index:\",  adjusted_rand_score(labels, clust_labels))"
   ]
  },
  {
   "cell_type": "markdown",
   "metadata": {},
   "source": [
    "Ниже будут представлены данные при значениях max_df = 0.5, min_df = 0.1 на символьных н-граммах. Кроме этого, мы проводили тесты с различными значениями, и все они показали себя несколько хуже, чем эти значения. Например, при соответствующих значениях max/min_df 0.7 и 0.3 качество в среднем падает на 3-4% (до ~88%). При max/min_df соответственно 0.5 и 0.3 качество падает на 1-2% (до ~92%). При кластеризации по словарным н-граммам качество при тех же показателях также падает на 3-4% (возможно, из-за увеличивающейся размерности). В целом колебание качества при именениях max/min_df редко превышает 10%.\n",
    "Также качество довольно резко падает при переходе с триграмм на биграммы (~10% падения), однако при этом повышается объяснённая дисперсия (до 96%)."
   ]
  },
  {
   "cell_type": "code",
   "execution_count": 39,
   "metadata": {
    "scrolled": true
   },
   "outputs": [
    {
     "ename": "ValueError",
     "evalue": "np.nan is an invalid document, expected byte or unicode string.",
     "output_type": "error",
     "traceback": [
      "\u001b[1;31m---------------------------------------------------------------------------\u001b[0m",
      "\u001b[1;31mValueError\u001b[0m                                Traceback (most recent call last)",
      "\u001b[1;32m<ipython-input-39-5dfd4a5a7fd7>\u001b[0m in \u001b[0;36m<module>\u001b[1;34m()\u001b[0m\n\u001b[0;32m      1\u001b[0m \u001b[1;31m#на первых десяти текстах (можно взять больше) посмотрим, как кластеризуются данные\u001b[0m\u001b[1;33m\u001b[0m\u001b[1;33m\u001b[0m\u001b[0m\n\u001b[1;32m----> 2\u001b[1;33m \u001b[0mcluster\u001b[0m \u001b[1;33m=\u001b[0m \u001b[0mpipeline\u001b[0m\u001b[1;33m.\u001b[0m\u001b[0mpredict\u001b[0m\u001b[1;33m(\u001b[0m\u001b[0mdataset\u001b[0m\u001b[1;33m.\u001b[0m\u001b[0mtext\u001b[0m\u001b[1;33m[\u001b[0m\u001b[1;33m:\u001b[0m\u001b[1;36m100\u001b[0m\u001b[1;33m]\u001b[0m\u001b[1;33m)\u001b[0m\u001b[1;33m\u001b[0m\u001b[0m\n\u001b[0m\u001b[0;32m      3\u001b[0m \u001b[0moutput\u001b[0m \u001b[1;33m=\u001b[0m \u001b[0mdataset\u001b[0m\u001b[1;33m.\u001b[0m\u001b[0mtext\u001b[0m\u001b[1;33m[\u001b[0m\u001b[1;33m:\u001b[0m\u001b[1;36m100\u001b[0m\u001b[1;33m]\u001b[0m\u001b[1;33m\u001b[0m\u001b[0m\n\u001b[0;32m      4\u001b[0m \u001b[1;31m#Я капитан Шепард и это самый отстойный цикл на Цитадели\u001b[0m\u001b[1;33m\u001b[0m\u001b[1;33m\u001b[0m\u001b[0m\n\u001b[0;32m      5\u001b[0m \u001b[1;31m#При помощи него мы понимаем, куда какой текст кластеризовался.\u001b[0m\u001b[1;33m\u001b[0m\u001b[1;33m\u001b[0m\u001b[0m\n",
      "\u001b[1;32m~\\Anaconda3\\envs\\mllecture\\lib\\site-packages\\sklearn\\utils\\metaestimators.py\u001b[0m in \u001b[0;36m<lambda>\u001b[1;34m(*args, **kwargs)\u001b[0m\n\u001b[0;32m    113\u001b[0m \u001b[1;33m\u001b[0m\u001b[0m\n\u001b[0;32m    114\u001b[0m         \u001b[1;31m# lambda, but not partial, allows help() to work with update_wrapper\u001b[0m\u001b[1;33m\u001b[0m\u001b[1;33m\u001b[0m\u001b[0m\n\u001b[1;32m--> 115\u001b[1;33m         \u001b[0mout\u001b[0m \u001b[1;33m=\u001b[0m \u001b[1;32mlambda\u001b[0m \u001b[1;33m*\u001b[0m\u001b[0margs\u001b[0m\u001b[1;33m,\u001b[0m \u001b[1;33m**\u001b[0m\u001b[0mkwargs\u001b[0m\u001b[1;33m:\u001b[0m \u001b[0mself\u001b[0m\u001b[1;33m.\u001b[0m\u001b[0mfn\u001b[0m\u001b[1;33m(\u001b[0m\u001b[0mobj\u001b[0m\u001b[1;33m,\u001b[0m \u001b[1;33m*\u001b[0m\u001b[0margs\u001b[0m\u001b[1;33m,\u001b[0m \u001b[1;33m**\u001b[0m\u001b[0mkwargs\u001b[0m\u001b[1;33m)\u001b[0m\u001b[1;33m\u001b[0m\u001b[0m\n\u001b[0m\u001b[0;32m    116\u001b[0m         \u001b[1;31m# update the docstring of the returned function\u001b[0m\u001b[1;33m\u001b[0m\u001b[1;33m\u001b[0m\u001b[0m\n\u001b[0;32m    117\u001b[0m         \u001b[0mupdate_wrapper\u001b[0m\u001b[1;33m(\u001b[0m\u001b[0mout\u001b[0m\u001b[1;33m,\u001b[0m \u001b[0mself\u001b[0m\u001b[1;33m.\u001b[0m\u001b[0mfn\u001b[0m\u001b[1;33m)\u001b[0m\u001b[1;33m\u001b[0m\u001b[0m\n",
      "\u001b[1;32m~\\Anaconda3\\envs\\mllecture\\lib\\site-packages\\sklearn\\pipeline.py\u001b[0m in \u001b[0;36mpredict\u001b[1;34m(self, X)\u001b[0m\n\u001b[0;32m    313\u001b[0m         \u001b[1;32mfor\u001b[0m \u001b[0mname\u001b[0m\u001b[1;33m,\u001b[0m \u001b[0mtransform\u001b[0m \u001b[1;32min\u001b[0m \u001b[0mself\u001b[0m\u001b[1;33m.\u001b[0m\u001b[0msteps\u001b[0m\u001b[1;33m[\u001b[0m\u001b[1;33m:\u001b[0m\u001b[1;33m-\u001b[0m\u001b[1;36m1\u001b[0m\u001b[1;33m]\u001b[0m\u001b[1;33m:\u001b[0m\u001b[1;33m\u001b[0m\u001b[0m\n\u001b[0;32m    314\u001b[0m             \u001b[1;32mif\u001b[0m \u001b[0mtransform\u001b[0m \u001b[1;32mis\u001b[0m \u001b[1;32mnot\u001b[0m \u001b[1;32mNone\u001b[0m\u001b[1;33m:\u001b[0m\u001b[1;33m\u001b[0m\u001b[0m\n\u001b[1;32m--> 315\u001b[1;33m                 \u001b[0mXt\u001b[0m \u001b[1;33m=\u001b[0m \u001b[0mtransform\u001b[0m\u001b[1;33m.\u001b[0m\u001b[0mtransform\u001b[0m\u001b[1;33m(\u001b[0m\u001b[0mXt\u001b[0m\u001b[1;33m)\u001b[0m\u001b[1;33m\u001b[0m\u001b[0m\n\u001b[0m\u001b[0;32m    316\u001b[0m         \u001b[1;32mreturn\u001b[0m \u001b[0mself\u001b[0m\u001b[1;33m.\u001b[0m\u001b[0msteps\u001b[0m\u001b[1;33m[\u001b[0m\u001b[1;33m-\u001b[0m\u001b[1;36m1\u001b[0m\u001b[1;33m]\u001b[0m\u001b[1;33m[\u001b[0m\u001b[1;33m-\u001b[0m\u001b[1;36m1\u001b[0m\u001b[1;33m]\u001b[0m\u001b[1;33m.\u001b[0m\u001b[0mpredict\u001b[0m\u001b[1;33m(\u001b[0m\u001b[0mXt\u001b[0m\u001b[1;33m)\u001b[0m\u001b[1;33m\u001b[0m\u001b[0m\n\u001b[0;32m    317\u001b[0m \u001b[1;33m\u001b[0m\u001b[0m\n",
      "\u001b[1;32m~\\Anaconda3\\envs\\mllecture\\lib\\site-packages\\sklearn\\feature_extraction\\text.py\u001b[0m in \u001b[0;36mtransform\u001b[1;34m(self, raw_documents)\u001b[0m\n\u001b[0;32m    921\u001b[0m \u001b[1;33m\u001b[0m\u001b[0m\n\u001b[0;32m    922\u001b[0m         \u001b[1;31m# use the same matrix-building strategy as fit_transform\u001b[0m\u001b[1;33m\u001b[0m\u001b[1;33m\u001b[0m\u001b[0m\n\u001b[1;32m--> 923\u001b[1;33m         \u001b[0m_\u001b[0m\u001b[1;33m,\u001b[0m \u001b[0mX\u001b[0m \u001b[1;33m=\u001b[0m \u001b[0mself\u001b[0m\u001b[1;33m.\u001b[0m\u001b[0m_count_vocab\u001b[0m\u001b[1;33m(\u001b[0m\u001b[0mraw_documents\u001b[0m\u001b[1;33m,\u001b[0m \u001b[0mfixed_vocab\u001b[0m\u001b[1;33m=\u001b[0m\u001b[1;32mTrue\u001b[0m\u001b[1;33m)\u001b[0m\u001b[1;33m\u001b[0m\u001b[0m\n\u001b[0m\u001b[0;32m    924\u001b[0m         \u001b[1;32mif\u001b[0m \u001b[0mself\u001b[0m\u001b[1;33m.\u001b[0m\u001b[0mbinary\u001b[0m\u001b[1;33m:\u001b[0m\u001b[1;33m\u001b[0m\u001b[0m\n\u001b[0;32m    925\u001b[0m             \u001b[0mX\u001b[0m\u001b[1;33m.\u001b[0m\u001b[0mdata\u001b[0m\u001b[1;33m.\u001b[0m\u001b[0mfill\u001b[0m\u001b[1;33m(\u001b[0m\u001b[1;36m1\u001b[0m\u001b[1;33m)\u001b[0m\u001b[1;33m\u001b[0m\u001b[0m\n",
      "\u001b[1;32m~\\Anaconda3\\envs\\mllecture\\lib\\site-packages\\sklearn\\feature_extraction\\text.py\u001b[0m in \u001b[0;36m_count_vocab\u001b[1;34m(self, raw_documents, fixed_vocab)\u001b[0m\n\u001b[0;32m    790\u001b[0m         \u001b[1;32mfor\u001b[0m \u001b[0mdoc\u001b[0m \u001b[1;32min\u001b[0m \u001b[0mraw_documents\u001b[0m\u001b[1;33m:\u001b[0m\u001b[1;33m\u001b[0m\u001b[0m\n\u001b[0;32m    791\u001b[0m             \u001b[0mfeature_counter\u001b[0m \u001b[1;33m=\u001b[0m \u001b[1;33m{\u001b[0m\u001b[1;33m}\u001b[0m\u001b[1;33m\u001b[0m\u001b[0m\n\u001b[1;32m--> 792\u001b[1;33m             \u001b[1;32mfor\u001b[0m \u001b[0mfeature\u001b[0m \u001b[1;32min\u001b[0m \u001b[0manalyze\u001b[0m\u001b[1;33m(\u001b[0m\u001b[0mdoc\u001b[0m\u001b[1;33m)\u001b[0m\u001b[1;33m:\u001b[0m\u001b[1;33m\u001b[0m\u001b[0m\n\u001b[0m\u001b[0;32m    793\u001b[0m                 \u001b[1;32mtry\u001b[0m\u001b[1;33m:\u001b[0m\u001b[1;33m\u001b[0m\u001b[0m\n\u001b[0;32m    794\u001b[0m                     \u001b[0mfeature_idx\u001b[0m \u001b[1;33m=\u001b[0m \u001b[0mvocabulary\u001b[0m\u001b[1;33m[\u001b[0m\u001b[0mfeature\u001b[0m\u001b[1;33m]\u001b[0m\u001b[1;33m\u001b[0m\u001b[0m\n",
      "\u001b[1;32m~\\Anaconda3\\envs\\mllecture\\lib\\site-packages\\sklearn\\feature_extraction\\text.py\u001b[0m in \u001b[0;36m<lambda>\u001b[1;34m(doc)\u001b[0m\n\u001b[0;32m    253\u001b[0m \u001b[1;33m\u001b[0m\u001b[0m\n\u001b[0;32m    254\u001b[0m         \u001b[1;32mif\u001b[0m \u001b[0mself\u001b[0m\u001b[1;33m.\u001b[0m\u001b[0manalyzer\u001b[0m \u001b[1;33m==\u001b[0m \u001b[1;34m'char'\u001b[0m\u001b[1;33m:\u001b[0m\u001b[1;33m\u001b[0m\u001b[0m\n\u001b[1;32m--> 255\u001b[1;33m             \u001b[1;32mreturn\u001b[0m \u001b[1;32mlambda\u001b[0m \u001b[0mdoc\u001b[0m\u001b[1;33m:\u001b[0m \u001b[0mself\u001b[0m\u001b[1;33m.\u001b[0m\u001b[0m_char_ngrams\u001b[0m\u001b[1;33m(\u001b[0m\u001b[0mpreprocess\u001b[0m\u001b[1;33m(\u001b[0m\u001b[0mself\u001b[0m\u001b[1;33m.\u001b[0m\u001b[0mdecode\u001b[0m\u001b[1;33m(\u001b[0m\u001b[0mdoc\u001b[0m\u001b[1;33m)\u001b[0m\u001b[1;33m)\u001b[0m\u001b[1;33m)\u001b[0m\u001b[1;33m\u001b[0m\u001b[0m\n\u001b[0m\u001b[0;32m    256\u001b[0m \u001b[1;33m\u001b[0m\u001b[0m\n\u001b[0;32m    257\u001b[0m         \u001b[1;32melif\u001b[0m \u001b[0mself\u001b[0m\u001b[1;33m.\u001b[0m\u001b[0manalyzer\u001b[0m \u001b[1;33m==\u001b[0m \u001b[1;34m'char_wb'\u001b[0m\u001b[1;33m:\u001b[0m\u001b[1;33m\u001b[0m\u001b[0m\n",
      "\u001b[1;32m~\\Anaconda3\\envs\\mllecture\\lib\\site-packages\\sklearn\\feature_extraction\\text.py\u001b[0m in \u001b[0;36mdecode\u001b[1;34m(self, doc)\u001b[0m\n\u001b[0;32m    117\u001b[0m \u001b[1;33m\u001b[0m\u001b[0m\n\u001b[0;32m    118\u001b[0m         \u001b[1;32mif\u001b[0m \u001b[0mdoc\u001b[0m \u001b[1;32mis\u001b[0m \u001b[0mnp\u001b[0m\u001b[1;33m.\u001b[0m\u001b[0mnan\u001b[0m\u001b[1;33m:\u001b[0m\u001b[1;33m\u001b[0m\u001b[0m\n\u001b[1;32m--> 119\u001b[1;33m             raise ValueError(\"np.nan is an invalid document, expected byte or \"\n\u001b[0m\u001b[0;32m    120\u001b[0m                              \"unicode string.\")\n\u001b[0;32m    121\u001b[0m \u001b[1;33m\u001b[0m\u001b[0m\n",
      "\u001b[1;31mValueError\u001b[0m: np.nan is an invalid document, expected byte or unicode string."
     ]
    }
   ],
   "source": [
    "#на первых десяти текстах (можно взять больше) посмотрим, как кластеризуются данные\n",
    "cluster = pipeline.predict(dataset.text[:100])\n",
    "output = dataset.text[:100]\n",
    "#Я капитан Шепард и это самый отстойный цикл на Цитадели\n",
    "#При помощи него мы понимаем, куда какой текст кластеризовался.\n",
    "#Отвечая на вопрос в третьем задании о том, можно ли при помощи кластеров опознать тему документа, \n",
    "#можно опираться на вот эти вот восхитительные результаты\n",
    "for i in range(len(cluster)):\n",
    "    print(\"Кластер {}:\".format(cluster[i]), output.values[i][:200])"
   ]
  },
  {
   "cell_type": "markdown",
   "metadata": {},
   "source": [
    "Мы визуализируем матрицу ошибок с помощью библиотеки %ИМЯБИБЛИОТЕКИ%. На осях расположены номера кластеров от 0 до 27 (от 1 до 28). В местах с кординатами (x,y) отмечено количество текстов кластера x, перепутанных с текстами кластера y.\n",
    "Похоже, что наш алгоритм работает достаточно хорошо, т.к. чем более светлая ячейка, тем больше ошибок.\n",
    "Например, мы можем видеть, что события кластера 18 (по вертикали) были распределены почти в каждый из других кластеров, но при этом это было сделано с небольшим количеством текстов."
   ]
  },
  {
   "cell_type": "code",
   "execution_count": 51,
   "metadata": {},
   "outputs": [
    {
     "data": {
      "image/png": "[encoded data removed]",
      "text/plain": [
       "<matplotlib.figure.Figure at 0x281006709b0>"
      ]
     },
     "metadata": {},
     "output_type": "display_data"
    }
   ],
   "source": [
    "plt.figure(figsize=(9, 9))\n",
    "sns.heatmap(confusion_matrix(labels, clust_labels))\n",
    "plt.title(\"Confusion matrix 1\")\n",
    "plt.show()"
   ]
  },
  {
   "cell_type": "code",
   "execution_count": 43,
   "metadata": {
    "scrolled": true
   },
   "outputs": [
    {
     "data": {
      "text/html": [
       "<div>\n",
       "<style>\n",
       "    .dataframe thead tr:only-child th {\n",
       "        text-align: right;\n",
       "    }\n",
       "\n",
       "    .dataframe thead th {\n",
       "        text-align: left;\n",
       "    }\n",
       "\n",
       "    .dataframe tbody tr th {\n",
       "        vertical-align: top;\n",
       "    }\n",
       "</style>\n",
       "<table border=\"1\" class=\"dataframe\">\n",
       "  <thead>\n",
       "    <tr style=\"text-align: right;\">\n",
       "      <th></th>\n",
       "      <th>Unnamed: 0</th>\n",
       "      <th>in_out</th>\n",
       "      <th>text</th>\n",
       "    </tr>\n",
       "  </thead>\n",
       "  <tbody>\n",
       "    <tr>\n",
       "      <th>2671</th>\n",
       "      <td>2671</td>\n",
       "      <td>0</td>\n",
       "      <td>я иметь опыт работа преподаватель правда частн...</td>\n",
       "    </tr>\n",
       "    <tr>\n",
       "      <th>5037</th>\n",
       "      <td>5037</td>\n",
       "      <td>1</td>\n",
       "      <td>я бы хотеть помогать ребенок хотеть бы чтобы с...</td>\n",
       "    </tr>\n",
       "    <tr>\n",
       "      <th>6595</th>\n",
       "      <td>6595</td>\n",
       "      <td>0</td>\n",
       "      <td>я считать что результат учеба т е отметка учен...</td>\n",
       "    </tr>\n",
       "    <tr>\n",
       "      <th>1737</th>\n",
       "      <td>1737</td>\n",
       "      <td>1</td>\n",
       "      <td>я часто сталкиваться с ученик в который я виде...</td>\n",
       "    </tr>\n",
       "    <tr>\n",
       "      <th>4848</th>\n",
       "      <td>4848</td>\n",
       "      <td>0</td>\n",
       "      <td>я знать как это происходить я знать как это бы...</td>\n",
       "    </tr>\n",
       "    <tr>\n",
       "      <th>2419</th>\n",
       "      <td>2419</td>\n",
       "      <td>0</td>\n",
       "      <td>помогать ребенок в обучение и зарождение желан...</td>\n",
       "    </tr>\n",
       "    <tr>\n",
       "      <th>6173</th>\n",
       "      <td>6173</td>\n",
       "      <td>1</td>\n",
       "      <td>хотеться бы снова попробовать себя в роль преп...</td>\n",
       "    </tr>\n",
       "    <tr>\n",
       "      <th>1338</th>\n",
       "      <td>1338</td>\n",
       "      <td>0</td>\n",
       "      <td>я мечтать становиться учитель еще в школа пото...</td>\n",
       "    </tr>\n",
       "    <tr>\n",
       "      <th>1461</th>\n",
       "      <td>1461</td>\n",
       "      <td>2</td>\n",
       "      <td>я быть такой же ребенок учиться в обычный дере...</td>\n",
       "    </tr>\n",
       "    <tr>\n",
       "      <th>1826</th>\n",
       "      <td>1826</td>\n",
       "      <td>1</td>\n",
       "      <td>я очень интересный данный программа я казаться...</td>\n",
       "    </tr>\n",
       "    <tr>\n",
       "      <th>1783</th>\n",
       "      <td>1783</td>\n",
       "      <td>1</td>\n",
       "      <td>во первый я не согласный с формулировка давать...</td>\n",
       "    </tr>\n",
       "    <tr>\n",
       "      <th>1388</th>\n",
       "      <td>1388</td>\n",
       "      <td>0</td>\n",
       "      <td>у я быть два основной причина мой желание рабо...</td>\n",
       "    </tr>\n",
       "    <tr>\n",
       "      <th>6118</th>\n",
       "      <td>6118</td>\n",
       "      <td>0</td>\n",
       "      <td>для я преподавание это возможность изменять ми...</td>\n",
       "    </tr>\n",
       "    <tr>\n",
       "      <th>679</th>\n",
       "      <td>679</td>\n",
       "      <td>1</td>\n",
       "      <td>в жизнь каждый человек наступать момент когда ...</td>\n",
       "    </tr>\n",
       "    <tr>\n",
       "      <th>3827</th>\n",
       "      <td>3827</td>\n",
       "      <td>0</td>\n",
       "      <td>так складываться что у я быть опыт работа в об...</td>\n",
       "    </tr>\n",
       "    <tr>\n",
       "      <th>4397</th>\n",
       "      <td>4397</td>\n",
       "      <td>0</td>\n",
       "      <td>быть огромный желание поделиться накоплять зна...</td>\n",
       "    </tr>\n",
       "    <tr>\n",
       "      <th>2441</th>\n",
       "      <td>2441</td>\n",
       "      <td>0</td>\n",
       "      <td>я привлекать преподавание в обычный школа так ...</td>\n",
       "    </tr>\n",
       "    <tr>\n",
       "      <th>1887</th>\n",
       "      <td>1887</td>\n",
       "      <td>0</td>\n",
       "      <td>я хотеть попробовать свой сила в этот направле...</td>\n",
       "    </tr>\n",
       "    <tr>\n",
       "      <th>2058</th>\n",
       "      <td>2058</td>\n",
       "      <td>1</td>\n",
       "      <td>уже много год работать учитель биология в райо...</td>\n",
       "    </tr>\n",
       "    <tr>\n",
       "      <th>2387</th>\n",
       "      <td>2387</td>\n",
       "      <td>0</td>\n",
       "      <td>в массовый школа учиться ребенок из разный в т...</td>\n",
       "    </tr>\n",
       "    <tr>\n",
       "      <th>4769</th>\n",
       "      <td>4769</td>\n",
       "      <td>1</td>\n",
       "      <td>я уроженка город курган всегда работать в прос...</td>\n",
       "    </tr>\n",
       "    <tr>\n",
       "      <th>6409</th>\n",
       "      <td>6409</td>\n",
       "      <td>0</td>\n",
       "      <td>я непросто однозначно отвечать на этот вопрос ...</td>\n",
       "    </tr>\n",
       "    <tr>\n",
       "      <th>4958</th>\n",
       "      <td>4958</td>\n",
       "      <td>1</td>\n",
       "      <td>я молодой специалист в область физический куль...</td>\n",
       "    </tr>\n",
       "    <tr>\n",
       "      <th>3359</th>\n",
       "      <td>3359</td>\n",
       "      <td>2</td>\n",
       "      <td>весь ребенок одаренный просто многий преподава...</td>\n",
       "    </tr>\n",
       "    <tr>\n",
       "      <th>2794</th>\n",
       "      <td>2794</td>\n",
       "      <td>0</td>\n",
       "      <td>я очень нравиться работать в реклама однако ка...</td>\n",
       "    </tr>\n",
       "    <tr>\n",
       "      <th>127</th>\n",
       "      <td>127</td>\n",
       "      <td>0</td>\n",
       "      <td>школа для я сейчас очень больной вопрос период...</td>\n",
       "    </tr>\n",
       "    <tr>\n",
       "      <th>5913</th>\n",
       "      <td>5913</td>\n",
       "      <td>1</td>\n",
       "      <td>по мой мнение российский региональный школа мо...</td>\n",
       "    </tr>\n",
       "    <tr>\n",
       "      <th>6362</th>\n",
       "      <td>6362</td>\n",
       "      <td>0</td>\n",
       "      <td>свой интерес к этот профессия я обязанный неск...</td>\n",
       "    </tr>\n",
       "    <tr>\n",
       "      <th>3769</th>\n",
       "      <td>3769</td>\n",
       "      <td>1</td>\n",
       "      <td>я интересовать возможность становиться педагог...</td>\n",
       "    </tr>\n",
       "    <tr>\n",
       "      <th>1429</th>\n",
       "      <td>1429</td>\n",
       "      <td>1</td>\n",
       "      <td>не мочь сказать что я хотеть становиться участ...</td>\n",
       "    </tr>\n",
       "    <tr>\n",
       "      <th>...</th>\n",
       "      <td>...</td>\n",
       "      <td>...</td>\n",
       "      <td>...</td>\n",
       "    </tr>\n",
       "    <tr>\n",
       "      <th>4053</th>\n",
       "      <td>4053</td>\n",
       "      <td>1</td>\n",
       "      <td>хотеть становиться участник потому что крайне ...</td>\n",
       "    </tr>\n",
       "    <tr>\n",
       "      <th>6355</th>\n",
       "      <td>6355</td>\n",
       "      <td>0</td>\n",
       "      <td>я хотеть становиться участник программа учител...</td>\n",
       "    </tr>\n",
       "    <tr>\n",
       "      <th>6231</th>\n",
       "      <td>6231</td>\n",
       "      <td>2</td>\n",
       "      <td>бросать некий вызов сам себя и получать реальн...</td>\n",
       "    </tr>\n",
       "    <tr>\n",
       "      <th>194</th>\n",
       "      <td>194</td>\n",
       "      <td>0</td>\n",
       "      <td>работать в школа 17 й год я понимать что учите...</td>\n",
       "    </tr>\n",
       "    <tr>\n",
       "      <th>4866</th>\n",
       "      <td>4866</td>\n",
       "      <td>1</td>\n",
       "      <td>учить физика ребенок я становиться еще в физик...</td>\n",
       "    </tr>\n",
       "    <tr>\n",
       "      <th>3317</th>\n",
       "      <td>3317</td>\n",
       "      <td>1</td>\n",
       "      <td>я быть преподавать русский язык и литература и...</td>\n",
       "    </tr>\n",
       "    <tr>\n",
       "      <th>6425</th>\n",
       "      <td>6425</td>\n",
       "      <td>0</td>\n",
       "      <td>иметь опыт работа как в частный так и в госуда...</td>\n",
       "    </tr>\n",
       "    <tr>\n",
       "      <th>4917</th>\n",
       "      <td>4917</td>\n",
       "      <td>1</td>\n",
       "      <td>сейчас я делать первый шаг в профессия учитель...</td>\n",
       "    </tr>\n",
       "    <tr>\n",
       "      <th>627</th>\n",
       "      <td>627</td>\n",
       "      <td>1</td>\n",
       "      <td>давно задумываться о работа учитель но в школа...</td>\n",
       "    </tr>\n",
       "    <tr>\n",
       "      <th>4332</th>\n",
       "      <td>4332</td>\n",
       "      <td>0</td>\n",
       "      <td>я не безразличный страна и общество в который ...</td>\n",
       "    </tr>\n",
       "    <tr>\n",
       "      <th>5685</th>\n",
       "      <td>5685</td>\n",
       "      <td>0</td>\n",
       "      <td>я преподавать в школа иностранный язык в данны...</td>\n",
       "    </tr>\n",
       "    <tr>\n",
       "      <th>4091</th>\n",
       "      <td>4091</td>\n",
       "      <td>0</td>\n",
       "      <td>я любить ребенок ребенок это факел который нуж...</td>\n",
       "    </tr>\n",
       "    <tr>\n",
       "      <th>5852</th>\n",
       "      <td>5852</td>\n",
       "      <td>1</td>\n",
       "      <td>я интересный работа учитель интересно совершен...</td>\n",
       "    </tr>\n",
       "    <tr>\n",
       "      <th>605</th>\n",
       "      <td>605</td>\n",
       "      <td>1</td>\n",
       "      <td>для я это интересный опыт я всегда бояться вза...</td>\n",
       "    </tr>\n",
       "    <tr>\n",
       "      <th>1093</th>\n",
       "      <td>1093</td>\n",
       "      <td>0</td>\n",
       "      <td>о данный программа я знать с тот пора как толь...</td>\n",
       "    </tr>\n",
       "    <tr>\n",
       "      <th>227</th>\n",
       "      <td>227</td>\n",
       "      <td>0</td>\n",
       "      <td>когда у я быть собеседование заседание комисси...</td>\n",
       "    </tr>\n",
       "    <tr>\n",
       "      <th>1370</th>\n",
       "      <td>1370</td>\n",
       "      <td>0</td>\n",
       "      <td>я сам проходить этот путь я не тешить иллюзия ...</td>\n",
       "    </tr>\n",
       "    <tr>\n",
       "      <th>3504</th>\n",
       "      <td>3504</td>\n",
       "      <td>0</td>\n",
       "      <td>я учиться на специальный психолог работа с реб...</td>\n",
       "    </tr>\n",
       "    <tr>\n",
       "      <th>6342</th>\n",
       "      <td>6342</td>\n",
       "      <td>0</td>\n",
       "      <td>я бы хотеть вернуться к профессия который я вы...</td>\n",
       "    </tr>\n",
       "    <tr>\n",
       "      <th>3291</th>\n",
       "      <td>3291</td>\n",
       "      <td>0</td>\n",
       "      <td>недавно я понимать что хотеть сменить сфера де...</td>\n",
       "    </tr>\n",
       "    <tr>\n",
       "      <th>4915</th>\n",
       "      <td>4915</td>\n",
       "      <td>0</td>\n",
       "      <td>ответ на вопрос быть возможно далекий от школа...</td>\n",
       "    </tr>\n",
       "    <tr>\n",
       "      <th>1993</th>\n",
       "      <td>1993</td>\n",
       "      <td>1</td>\n",
       "      <td>у я быть такой опыт работа я мочь быть полезны...</td>\n",
       "    </tr>\n",
       "    <tr>\n",
       "      <th>4560</th>\n",
       "      <td>4560</td>\n",
       "      <td>1</td>\n",
       "      <td>занятие с ребенок мой призвание вокруг я всегд...</td>\n",
       "    </tr>\n",
       "    <tr>\n",
       "      <th>3209</th>\n",
       "      <td>3209</td>\n",
       "      <td>0</td>\n",
       "      <td>в школа я привлекать ребенок ребенок это ангел...</td>\n",
       "    </tr>\n",
       "    <tr>\n",
       "      <th>794</th>\n",
       "      <td>794</td>\n",
       "      <td>1</td>\n",
       "      <td>я чувствовать что необходимо проходить заново ...</td>\n",
       "    </tr>\n",
       "    <tr>\n",
       "      <th>3315</th>\n",
       "      <td>3315</td>\n",
       "      <td>1</td>\n",
       "      <td>вспоминать мой время обучение в школа можно ск...</td>\n",
       "    </tr>\n",
       "    <tr>\n",
       "      <th>1985</th>\n",
       "      <td>1985</td>\n",
       "      <td>0</td>\n",
       "      <td>это быть всегда мой мечта быть учитель и работ...</td>\n",
       "    </tr>\n",
       "    <tr>\n",
       "      <th>3341</th>\n",
       "      <td>3341</td>\n",
       "      <td>0</td>\n",
       "      <td>твердо решать становиться учитель я в начало о...</td>\n",
       "    </tr>\n",
       "    <tr>\n",
       "      <th>22</th>\n",
       "      <td>22</td>\n",
       "      <td>0</td>\n",
       "      <td>учитель для россия это идеальный возможность п...</td>\n",
       "    </tr>\n",
       "    <tr>\n",
       "      <th>5033</th>\n",
       "      <td>5033</td>\n",
       "      <td>1</td>\n",
       "      <td>думать ни для кто не секрет что в школа у ребе...</td>\n",
       "    </tr>\n",
       "  </tbody>\n",
       "</table>\n",
       "<p>6633 rows × 3 columns</p>\n",
       "</div>"
      ],
      "text/plain": [
       "      Unnamed: 0  in_out                                               text\n",
       "2671        2671       0  я иметь опыт работа преподаватель правда частн...\n",
       "5037        5037       1  я бы хотеть помогать ребенок хотеть бы чтобы с...\n",
       "6595        6595       0  я считать что результат учеба т е отметка учен...\n",
       "1737        1737       1  я часто сталкиваться с ученик в который я виде...\n",
       "4848        4848       0  я знать как это происходить я знать как это бы...\n",
       "2419        2419       0  помогать ребенок в обучение и зарождение желан...\n",
       "6173        6173       1  хотеться бы снова попробовать себя в роль преп...\n",
       "1338        1338       0  я мечтать становиться учитель еще в школа пото...\n",
       "1461        1461       2  я быть такой же ребенок учиться в обычный дере...\n",
       "1826        1826       1  я очень интересный данный программа я казаться...\n",
       "1783        1783       1  во первый я не согласный с формулировка давать...\n",
       "1388        1388       0  у я быть два основной причина мой желание рабо...\n",
       "6118        6118       0  для я преподавание это возможность изменять ми...\n",
       "679          679       1  в жизнь каждый человек наступать момент когда ...\n",
       "3827        3827       0  так складываться что у я быть опыт работа в об...\n",
       "4397        4397       0  быть огромный желание поделиться накоплять зна...\n",
       "2441        2441       0  я привлекать преподавание в обычный школа так ...\n",
       "1887        1887       0  я хотеть попробовать свой сила в этот направле...\n",
       "2058        2058       1  уже много год работать учитель биология в райо...\n",
       "2387        2387       0  в массовый школа учиться ребенок из разный в т...\n",
       "4769        4769       1  я уроженка город курган всегда работать в прос...\n",
       "6409        6409       0  я непросто однозначно отвечать на этот вопрос ...\n",
       "4958        4958       1  я молодой специалист в область физический куль...\n",
       "3359        3359       2  весь ребенок одаренный просто многий преподава...\n",
       "2794        2794       0  я очень нравиться работать в реклама однако ка...\n",
       "127          127       0  школа для я сейчас очень больной вопрос период...\n",
       "5913        5913       1  по мой мнение российский региональный школа мо...\n",
       "6362        6362       0  свой интерес к этот профессия я обязанный неск...\n",
       "3769        3769       1  я интересовать возможность становиться педагог...\n",
       "1429        1429       1  не мочь сказать что я хотеть становиться участ...\n",
       "...          ...     ...                                                ...\n",
       "4053        4053       1  хотеть становиться участник потому что крайне ...\n",
       "6355        6355       0  я хотеть становиться участник программа учител...\n",
       "6231        6231       2  бросать некий вызов сам себя и получать реальн...\n",
       "194          194       0  работать в школа 17 й год я понимать что учите...\n",
       "4866        4866       1  учить физика ребенок я становиться еще в физик...\n",
       "3317        3317       1  я быть преподавать русский язык и литература и...\n",
       "6425        6425       0  иметь опыт работа как в частный так и в госуда...\n",
       "4917        4917       1  сейчас я делать первый шаг в профессия учитель...\n",
       "627          627       1  давно задумываться о работа учитель но в школа...\n",
       "4332        4332       0  я не безразличный страна и общество в который ...\n",
       "5685        5685       0  я преподавать в школа иностранный язык в данны...\n",
       "4091        4091       0  я любить ребенок ребенок это факел который нуж...\n",
       "5852        5852       1  я интересный работа учитель интересно совершен...\n",
       "605          605       1  для я это интересный опыт я всегда бояться вза...\n",
       "1093        1093       0  о данный программа я знать с тот пора как толь...\n",
       "227          227       0  когда у я быть собеседование заседание комисси...\n",
       "1370        1370       0  я сам проходить этот путь я не тешить иллюзия ...\n",
       "3504        3504       0  я учиться на специальный психолог работа с реб...\n",
       "6342        6342       0  я бы хотеть вернуться к профессия который я вы...\n",
       "3291        3291       0  недавно я понимать что хотеть сменить сфера де...\n",
       "4915        4915       0  ответ на вопрос быть возможно далекий от школа...\n",
       "1993        1993       1  у я быть такой опыт работа я мочь быть полезны...\n",
       "4560        4560       1  занятие с ребенок мой призвание вокруг я всегд...\n",
       "3209        3209       0  в школа я привлекать ребенок ребенок это ангел...\n",
       "794          794       1  я чувствовать что необходимо проходить заново ...\n",
       "3315        3315       1  вспоминать мой время обучение в школа можно ск...\n",
       "1985        1985       0  это быть всегда мой мечта быть учитель и работ...\n",
       "3341        3341       0  твердо решать становиться учитель я в начало о...\n",
       "22            22       0  учитель для россия это идеальный возможность п...\n",
       "5033        5033       1  думать ни для кто не секрет что в школа у ребе...\n",
       "\n",
       "[6633 rows x 3 columns]"
      ]
     },
     "execution_count": 43,
     "metadata": {},
     "output_type": "execute_result"
    }
   ],
   "source": [
    "dataset"
   ]
  },
  {
   "cell_type": "markdown",
   "metadata": {},
   "source": [
    "На данном этапе мы модифицируем наш конвейер и используем алгоритм спектральной кластеризации. Результат примерно совпадает с результатом для k-means; результат для слов несколько хуже, чем для символьных н-граммов (результат в ячейке ниже). Показатели для слов при тех же df:  \n",
    "Homogeneity: 0.85933986947  \n",
    "Completeness: 0.830456881204  \n",
    "V-measure: 0.844651532925  \n",
    "Adjusted Rand-Index: 0.715592942238  "
   ]
  },
  {
   "cell_type": "code",
   "execution_count": 41,
   "metadata": {
    "scrolled": true
   },
   "outputs": [
    {
     "name": "stderr",
     "output_type": "stream",
     "text": [
      "C:\\Users\\Asus\\Anaconda3\\envs\\mllecture\\lib\\site-packages\\sklearn\\feature_extraction\\text.py:1089: FutureWarning: Conversion of the second argument of issubdtype from `float` to `np.floating` is deprecated. In future, it will be treated as `np.float64 == np.dtype(float).type`.\n",
      "  if hasattr(X, 'dtype') and np.issubdtype(X.dtype, np.float):\n",
      "C:\\Users\\Asus\\Anaconda3\\envs\\mllecture\\lib\\site-packages\\scipy\\sparse\\csgraph\\_laplacian.py:72: FutureWarning: Conversion of the second argument of issubdtype from `int` to `np.signedinteger` is deprecated. In future, it will be treated as `np.int32 == np.dtype(int).type`.\n",
      "  if normed and (np.issubdtype(csgraph.dtype, int)\n"
     ]
    },
    {
     "ename": "AttributeError",
     "evalue": "'SpectralClustering' object has no attribute 'transform'",
     "output_type": "error",
     "traceback": [
      "\u001b[1;31m---------------------------------------------------------------------------\u001b[0m",
      "\u001b[1;31mAttributeError\u001b[0m                            Traceback (most recent call last)",
      "\u001b[1;32m<ipython-input-41-fa65be05cdf2>\u001b[0m in \u001b[0;36m<module>\u001b[1;34m()\u001b[0m\n\u001b[0;32m      6\u001b[0m     \u001b[1;33m(\u001b[0m\u001b[1;34m'clust'\u001b[0m\u001b[1;33m,\u001b[0m \u001b[0mSpectralClustering\u001b[0m\u001b[1;33m(\u001b[0m\u001b[0mn_clusters\u001b[0m\u001b[1;33m=\u001b[0m\u001b[0mtrue_k\u001b[0m\u001b[1;33m,\u001b[0m \u001b[0meigen_solver\u001b[0m\u001b[1;33m=\u001b[0m\u001b[1;32mNone\u001b[0m\u001b[1;33m,\u001b[0m \u001b[0mrandom_state\u001b[0m\u001b[1;33m=\u001b[0m\u001b[1;32mNone\u001b[0m\u001b[1;33m,\u001b[0m \u001b[0mn_init\u001b[0m\u001b[1;33m=\u001b[0m\u001b[1;36m10\u001b[0m\u001b[1;33m,\u001b[0m \u001b[0mgamma\u001b[0m\u001b[1;33m=\u001b[0m\u001b[1;36m1.0\u001b[0m\u001b[1;33m,\u001b[0m \u001b[0maffinity\u001b[0m\u001b[1;33m=\u001b[0m\u001b[1;34m'rbf'\u001b[0m\u001b[1;33m,\u001b[0m \u001b[0mn_neighbors\u001b[0m\u001b[1;33m=\u001b[0m\u001b[1;36m10\u001b[0m\u001b[1;33m,\u001b[0m \u001b[0meigen_tol\u001b[0m\u001b[1;33m=\u001b[0m\u001b[1;36m0.0\u001b[0m\u001b[1;33m,\u001b[0m \u001b[0massign_labels\u001b[0m\u001b[1;33m=\u001b[0m\u001b[1;34m'kmeans'\u001b[0m\u001b[1;33m,\u001b[0m \u001b[0mdegree\u001b[0m\u001b[1;33m=\u001b[0m\u001b[1;36m3\u001b[0m\u001b[1;33m,\u001b[0m \u001b[0mcoef0\u001b[0m\u001b[1;33m=\u001b[0m\u001b[1;36m1\u001b[0m\u001b[1;33m,\u001b[0m \u001b[0mkernel_params\u001b[0m\u001b[1;33m=\u001b[0m\u001b[1;32mNone\u001b[0m\u001b[1;33m,\u001b[0m \u001b[0mn_jobs\u001b[0m\u001b[1;33m=\u001b[0m\u001b[1;36m1\u001b[0m\u001b[1;33m)\u001b[0m\u001b[1;33m)\u001b[0m\u001b[1;33m\u001b[0m\u001b[0m\n\u001b[0;32m      7\u001b[0m ])\n\u001b[1;32m----> 8\u001b[1;33m \u001b[0mpipeline2\u001b[0m\u001b[1;33m.\u001b[0m\u001b[0mfit_transform\u001b[0m\u001b[1;33m(\u001b[0m\u001b[0mdataset\u001b[0m\u001b[1;33m.\u001b[0m\u001b[0mtext\u001b[0m\u001b[1;33m[\u001b[0m\u001b[1;36m100\u001b[0m\u001b[1;33m:\u001b[0m\u001b[1;33m]\u001b[0m\u001b[1;33m.\u001b[0m\u001b[0mastype\u001b[0m\u001b[1;33m(\u001b[0m\u001b[0mstr\u001b[0m\u001b[1;33m)\u001b[0m\u001b[1;33m)\u001b[0m\u001b[1;33m\u001b[0m\u001b[0m\n\u001b[0m\u001b[0;32m      9\u001b[0m \u001b[0mlabels\u001b[0m \u001b[1;33m=\u001b[0m \u001b[0mdataset\u001b[0m\u001b[1;33m.\u001b[0m\u001b[0min_out\u001b[0m\u001b[1;33m[\u001b[0m\u001b[1;36m100\u001b[0m\u001b[1;33m:\u001b[0m\u001b[1;33m]\u001b[0m\u001b[1;33m.\u001b[0m\u001b[0mas_matrix\u001b[0m\u001b[1;33m(\u001b[0m\u001b[1;33m)\u001b[0m\u001b[1;33m\u001b[0m\u001b[0m\n\u001b[0;32m     10\u001b[0m \u001b[1;33m\u001b[0m\u001b[0m\n",
      "\u001b[1;32m~\\Anaconda3\\envs\\mllecture\\lib\\site-packages\\sklearn\\pipeline.py\u001b[0m in \u001b[0;36mfit_transform\u001b[1;34m(self, X, y, **fit_params)\u001b[0m\n\u001b[0;32m    294\u001b[0m             \u001b[1;32mreturn\u001b[0m \u001b[0mXt\u001b[0m\u001b[1;33m\u001b[0m\u001b[0m\n\u001b[0;32m    295\u001b[0m         \u001b[1;32melse\u001b[0m\u001b[1;33m:\u001b[0m\u001b[1;33m\u001b[0m\u001b[0m\n\u001b[1;32m--> 296\u001b[1;33m             \u001b[1;32mreturn\u001b[0m \u001b[0mlast_step\u001b[0m\u001b[1;33m.\u001b[0m\u001b[0mfit\u001b[0m\u001b[1;33m(\u001b[0m\u001b[0mXt\u001b[0m\u001b[1;33m,\u001b[0m \u001b[0my\u001b[0m\u001b[1;33m,\u001b[0m \u001b[1;33m**\u001b[0m\u001b[0mfit_params\u001b[0m\u001b[1;33m)\u001b[0m\u001b[1;33m.\u001b[0m\u001b[0mtransform\u001b[0m\u001b[1;33m(\u001b[0m\u001b[0mXt\u001b[0m\u001b[1;33m)\u001b[0m\u001b[1;33m\u001b[0m\u001b[0m\n\u001b[0m\u001b[0;32m    297\u001b[0m \u001b[1;33m\u001b[0m\u001b[0m\n\u001b[0;32m    298\u001b[0m     \u001b[1;33m@\u001b[0m\u001b[0mif_delegate_has_method\u001b[0m\u001b[1;33m(\u001b[0m\u001b[0mdelegate\u001b[0m\u001b[1;33m=\u001b[0m\u001b[1;34m'_final_estimator'\u001b[0m\u001b[1;33m)\u001b[0m\u001b[1;33m\u001b[0m\u001b[0m\n",
      "\u001b[1;31mAttributeError\u001b[0m: 'SpectralClustering' object has no attribute 'transform'"
     ]
    }
   ],
   "source": [
    "pipeline2 = Pipeline([\n",
    "    ('vect', CountVectorizer(max_df=0.5, min_df=0.1, ngram_range=(1,3), analyzer='char')),\n",
    "    ('tfidf', TfidfTransformer()),\n",
    "    ('svd', TruncatedSVD(n_components=200)),\n",
    "    ('norm', Normalizer() ),\n",
    "    ('clust', SpectralClustering(n_clusters=true_k, eigen_solver=None, random_state=None, n_init=10, gamma=1.0, affinity='rbf', n_neighbors=10, eigen_tol=0.0, assign_labels='kmeans', degree=3, coef0=1, kernel_params=None, n_jobs=1))\n",
    "])\n",
    "pipeline2.fit_transform(dataset.text[100:].astype(str))\n",
    "labels = dataset.in_out[100:].as_matrix()\n",
    "\n",
    "explained_variance = pipeline2.named_steps['svd'].explained_variance_ratio_.sum()\n",
    "print(\"Explained variance of the SVD step: {}%\".format(\n",
    "    int(explained_variance * 100)))"
   ]
  },
  {
   "cell_type": "code",
   "execution_count": 44,
   "metadata": {
    "scrolled": true
   },
   "outputs": [
    {
     "name": "stdout",
     "output_type": "stream",
     "text": [
      "Homogeneity: 0.05495123854528041\n",
      "Completeness: 0.036461176596642005\n",
      "V-measure: 0.04383620779941105\n",
      "Adjusted Rand-Index: 0.052960554605962336\n"
     ]
    }
   ],
   "source": [
    "clust_labels = pipeline2.named_steps['clust'].labels_\n",
    "print(\"Homogeneity:\", homogeneity_score(labels, clust_labels))\n",
    "print(\"Completeness:\", completeness_score(labels, clust_labels))\n",
    "print(\"V-measure:\",  v_measure_score(labels, clust_labels))\n",
    "print(\"Adjusted Rand-Index:\",  adjusted_rand_score(labels, clust_labels))"
   ]
  },
  {
   "cell_type": "markdown",
   "metadata": {},
   "source": [
    "Представим матрицу ошибок для наших кластеров. Из неё видно, что матрица работает практически безошибочно."
   ]
  },
  {
   "cell_type": "code",
   "execution_count": 25,
   "metadata": {},
   "outputs": [
    {
     "data": {
      "image/png": "[encoded data removed]",
      "text/plain": [
       "<matplotlib.figure.Figure at 0x1efd3f08748>"
      ]
     },
     "metadata": {},
     "output_type": "display_data"
    }
   ],
   "source": [
    "plt.figure(figsize=(10, 10))\n",
    "sns.heatmap(confusion_matrix(labels, clust_labels))\n",
    "plt.title(\"Confusion matrix 2\")\n",
    "plt.show()"
   ]
  },
  {
   "cell_type": "markdown",
   "metadata": {},
   "source": [
    "Модифицируем наш конвейер ещё раз, чтобы попробовать иерархическую кластеризацию. "
   ]
  },
  {
   "cell_type": "code",
   "execution_count": 26,
   "metadata": {},
   "outputs": [
    {
     "name": "stdout",
     "output_type": "stream",
     "text": [
      "Explained variance of the SVD step: 76%\n"
     ]
    }
   ],
   "source": [
    "pipeline3 = Pipeline([\n",
    "    ('vect', CountVectorizer(max_df=0.5, min_df=0.1, ngram_range=(1,3), analyzer='char')),\n",
    "    ('tfidf', TfidfTransformer()),\n",
    "    ('svd', TruncatedSVD(n_components=200)),\n",
    "    ('norm', Normalizer() ),\n",
    "    ('clust', AgglomerativeClustering(n_clusters=true_k, affinity='euclidean', memory=None, connectivity=None, compute_full_tree='auto', linkage='ward', pooling_func=np.mean))\n",
    "])\n",
    "pipeline3.fit(dataset.text[100:])\n",
    "\n",
    "clust_labels = pipeline3.named_steps['clust'].labels_\n",
    "labels = dataset.event_id[100:].as_matrix()\n",
    "\n",
    "explained_variance = pipeline3.named_steps['svd'].explained_variance_ratio_.sum()\n",
    "print(\"Explained variance of the SVD step: {}%\".format(\n",
    "    int(explained_variance * 100)))"
   ]
  },
  {
   "cell_type": "markdown",
   "metadata": {},
   "source": [
    "В итоге иерархическая даёт наибольший результат в нашей работе. В выдаче ниже видно результаты для символьных н-граммов; результаты для слов на тех же показателях df:  \n",
    "Homogeneity: 0.918367536954  \n",
    "Completeness: 0.886302496614  \n",
    "V-measure 0.902050153958  \n",
    "Adjusted Rand-Index: 0.818080995473"
   ]
  },
  {
   "cell_type": "code",
   "execution_count": 27,
   "metadata": {},
   "outputs": [
    {
     "name": "stdout",
     "output_type": "stream",
     "text": [
      "Homogeneity: 0.928424782414\n",
      "Completeness: 0.911908553952\n",
      "V-measure 0.920092555033\n",
      "Adjusted Rand-Index: 0.842408481133\n"
     ]
    }
   ],
   "source": [
    "print(\"Homogeneity:\", homogeneity_score(labels, clust_labels))\n",
    "print(\"Completeness:\", completeness_score(labels, clust_labels))\n",
    "print(\"V-measure\",  v_measure_score(labels, clust_labels))\n",
    "print(\"Adjusted Rand-Index:\",  adjusted_rand_score(labels, clust_labels))"
   ]
  },
  {
   "cell_type": "markdown",
   "metadata": {},
   "source": [
    "Из последней матрицы ошибок видно, что иерархическая кластеризация ошибается реже спектральной, хотя тоже иногда путает категории."
   ]
  },
  {
   "cell_type": "code",
   "execution_count": 28,
   "metadata": {},
   "outputs": [
    {
     "data": {
      "image/png": "[encoded data removed]",
      "text/plain": [
       "<matplotlib.figure.Figure at 0x1efd420a0f0>"
      ]
     },
     "metadata": {},
     "output_type": "display_data"
    }
   ],
   "source": [
    "plt.figure(figsize=(10, 10))\n",
    "sns.heatmap(confusion_matrix(labels, clust_labels))\n",
    "plt.title(\"Confusion matrix 3\")\n",
    "plt.show()"
   ]
  },
  {
   "cell_type": "markdown",
   "metadata": {
    "collapsed": true
   },
   "source": [
    "Теперь посмотрим, как работает алгоритм k-средних с пятью кластерами."
   ]
  },
  {
   "cell_type": "code",
   "execution_count": 8,
   "metadata": {},
   "outputs": [
    {
     "name": "stdout",
     "output_type": "stream",
     "text": [
      "Explained variance of the SVD step: 76%\n"
     ]
    }
   ],
   "source": [
    "pipeline = Pipeline([\n",
    "    ('vect', CountVectorizer(max_df=0.5, min_df=0.1, ngram_range=(1,3), analyzer='char')),\n",
    "    ('tfidf', TfidfTransformer()),\n",
    "    ('svd', TruncatedSVD(n_components=200)),\n",
    "    ('norm', Normalizer() ),\n",
    "    ('clust', KMeans(n_clusters=5))\n",
    "])\n",
    "\n",
    "pipeline.fit(dataset.text[100:])\n",
    "\n",
    "\n",
    "explained_variance = pipeline.named_steps['svd'].explained_variance_ratio_.sum()\n",
    "print(\"Explained variance of the SVD step: {}%\".format(\n",
    "    int(explained_variance * 100)))"
   ]
  },
  {
   "cell_type": "code",
   "execution_count": 9,
   "metadata": {},
   "outputs": [
    {
     "name": "stdout",
     "output_type": "stream",
     "text": [
      "Homogeneity: 0.444641019001\n",
      "Completeness: 0.968307670752\n",
      "V-measure 0.609433750217\n",
      "Adjusted Rand-Index: 0.21491464097\n"
     ]
    }
   ],
   "source": [
    "clust_labels = pipeline.named_steps['clust'].labels_\n",
    "labels = dataset.event_id[100:].as_matrix()\n",
    "\n",
    "print(\"Homogeneity:\", homogeneity_score(labels, clust_labels))\n",
    "print(\"Completeness:\", completeness_score(labels, clust_labels))\n",
    "print(\"V-measure\",  v_measure_score(labels, clust_labels))\n",
    "print(\"Adjusted Rand-Index:\",  adjusted_rand_score(labels, clust_labels))"
   ]
  },
  {
   "cell_type": "code",
   "execution_count": 10,
   "metadata": {},
   "outputs": [
    {
     "data": {
      "image/png": "[encoded data removed]",
      "text/plain": [
       "<matplotlib.figure.Figure at 0x25df979fa90>"
      ]
     },
     "metadata": {},
     "output_type": "display_data"
    }
   ],
   "source": [
    "plt.figure(figsize=(10, 10))\n",
    "sns.heatmap(confusion_matrix(labels, clust_labels))\n",
    "plt.title(\"Confusion matrix 3\")\n",
    "plt.show()"
   ]
  },
  {
   "cell_type": "markdown",
   "metadata": {},
   "source": [
    "При сокращении количества кластеров при обучении качество кластеризации резко падает, так что можно сделать вывод, что такого количества данных недостаточно для качественной кластеризации."
   ]
  }
 ],
 "metadata": {
  "kernelspec": {
   "display_name": "Python 3",
   "language": "python",
   "name": "python3"
  },
  "language_info": {
   "codemirror_mode": {
    "name": "ipython",
    "version": 3
   },
   "file_extension": ".py",
   "mimetype": "text/x-python",
   "name": "python",
   "nbconvert_exporter": "python",
   "pygments_lexer": "ipython3",
   "version": "3.5.4"
  }
 },
 "nbformat": 4,
 "nbformat_minor": 2
}
